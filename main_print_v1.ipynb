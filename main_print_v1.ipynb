{
 "cells": [
  {
   "cell_type": "markdown",
   "id": "be80367f",
   "metadata": {},
   "source": [
    "# Print 예제입니다."
   ]
  },
  {
   "cell_type": "code",
   "execution_count": null,
   "id": "fedd197e",
   "metadata": {},
   "outputs": [],
   "source": [
    "#1\n",
    "print(\"Hello world!\")\n",
    "\n",
    "name = \"Alice\"\n",
    "age = 25\n",
    "score = 95.5\n",
    "\n",
    "#2\n",
    "print(\"Name:\", name, \"Age:\", age, \"Score\", score)\n",
    "\n",
    "#3\n",
    "print(f\"My name is {name}, I am {age} years old, score: {score}\")\n",
    "\n",
    "#4\n",
    "print(\"My name is {}, I am {} years old, score: {}\".format(name, age, score))\n",
    "print(\"My name is {0}, age {1}, score {2}\".format(name, age, score))\n",
    "print(\"Score with 2 decimals {:.2f}\".format(score))\n",
    "\n",
    "#5\n",
    "print(\"Name: %s, Age: %d, Score: %.1f\"%(name, age, score))\n",
    "\n",
    "#6\n",
    "print(\"This is line 1\\nThis is line 2\")\n",
    "\n",
    "#7\n",
    "print(\"Hello\", end=\"\")\n",
    "print(\"World!\")\n",
    "\n",
    "#8\n",
    "print(\"2025\", \"09\",\"23\", sep=\"-\")\n",
    "\n",
    "#9\n",
    "data = {\"name\": name, \"age\": age, \"score\": score}\n",
    "print(\"Data\", data)\n",
    "\n",
    "#10\n",
    "print(f\"Next year age: {age+1}\")\n",
    "print(f\"Score (rounded): {round(score)}\")\n",
    "\n",
    "#11\n",
    "print(f\"\"\"\n",
    "Student Info:\n",
    " - Name : {name}\n",
    " - Age  : {age}\n",
    " - Score: {score:.2f}\n",
    " \"\"\")"
   ]
  }
 ],
 "metadata": {
  "language_info": {
   "name": "python"
  }
 },
 "nbformat": 4,
 "nbformat_minor": 5
}
